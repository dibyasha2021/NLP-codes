{
  "nbformat": 4,
  "nbformat_minor": 0,
  "metadata": {
    "colab": {
      "provenance": []
    },
    "kernelspec": {
      "name": "python3",
      "display_name": "Python 3"
    },
    "language_info": {
      "name": "python"
    }
  },
  "cells": [
    {
      "cell_type": "code",
      "source": [
        "# Importing Libraries\n",
        "import pandas as pd\n",
        "import numpy as np\n",
        "import re\n",
        "import nltk\n",
        "from collections import defaultdict\n",
        "from nltk.corpus import stopwords\n",
        "from nltk.tokenize import word_tokenize"
      ],
      "metadata": {
        "id": "9QSYq594Yd0B"
      },
      "execution_count": 1,
      "outputs": []
    },
    {
      "cell_type": "code",
      "source": [
        "nltk.download('stopwords')\n",
        "nltk.download('punkt')"
      ],
      "metadata": {
        "colab": {
          "base_uri": "https://localhost:8080/"
        },
        "id": "4SHh47l8Yd2A",
        "outputId": "7a7b69bb-d9d8-4f5a-9d8c-b88f4ea132a2"
      },
      "execution_count": 2,
      "outputs": [
        {
          "output_type": "stream",
          "name": "stderr",
          "text": [
            "[nltk_data] Downloading package stopwords to /root/nltk_data...\n",
            "[nltk_data]   Unzipping corpora/stopwords.zip.\n",
            "[nltk_data] Downloading package punkt to /root/nltk_data...\n",
            "[nltk_data]   Unzipping tokenizers/punkt.zip.\n"
          ]
        },
        {
          "output_type": "execute_result",
          "data": {
            "text/plain": [
              "True"
            ]
          },
          "metadata": {},
          "execution_count": 2
        }
      ]
    },
    {
      "cell_type": "code",
      "execution_count": 5,
      "metadata": {
        "id": "EeqFb8vYZOrr"
      },
      "outputs": [],
      "source": [
        "# the text's are taken from the book \n",
        "# GEORGE ROMNEY BY ROWLEY CLEEVE\n",
        "\n",
        "# text 1 is from chapter 2 LADY HAMILTON\n",
        "text1 = \"In any consideration of the life and art of George Romney, however brief, it is impossible to leave out the name of Lady Hamilton, as she was so constantly painted by him. It will be well, therefore, for a short section of this little book to be devoted to a story of the life of this fascinating person, who was fated to exercise so strong an influence upon the painter. It is hardly possible for the most imaginative romancer to tell a story more chequered in its events, more thrilling in its emotions, and more sad in its end. Emma Lyon was the daughter of a smith in Cheshire, a humble man, who died in 1761, after a very short married life, and left his widow and infant daughter wholly without support. The widow moved at once from Neston, where her husband had died, to Hawarden, her native place, and here by the aid of her relatives, almost equally poor with herself, she managed to bring up her child and send her to a dame's school in the village. When about twelve Emma went as nursery-maid to the family of a Mr. Thomas, a doctor of Hawarden, whose son afterwards became an eminent surgeon.\"\n",
        "# text 2 is from chapter3 THE ART OF ROMNEY\n",
        "text2 = \"Romney is almost exclusively known as a painter of portraits, his historical scenes attracting but little attention. In their way they were remarkable, but they were forced in their conception and over-sentimental in their design, as was the fashion of the day. In his portraits he struck a much truer note and by them his repute will stand. It is almost impossible, taking into consideration the time in which he lived, to avoid comparing him with his great rivals Reynolds and Gainsborough, and perhaps it is well that it should be so, as by thinking of him in connection with these two men it will be possible to obtain a better impression of his capabilities and a knowledge of his faults. He was, it is quite certain, a far less important man than Gainsborough, who must certainly be reckoned as the greatest of the three. He lacked the colour sense that distinguished that great artist; he was by no means his equal in technical merit; and he had no ability to produce landscape-work that gave so great a charm to the pictures of the Sudbury artist. The wonderful poetry that streamed from the brush of Gainsborough and refined all his works, the delicacy, the grace and the sweetness of his figures are all superior qualities to those which Romney possessed, whilst as a colourist Gainsborough stood head and shoulders above both his rivals. When we come to draughtsmanship we are, however, on a different footing, as Romney was the superior both of Reynolds and Gainsborough in ability to draw with accuracy and truth, and he also surpassed both of them in the manner in which he obtained his effects. Where Reynolds laboured Romney achieved the same effect with the greatest ease and simplicity; and, in fact, the word simplicity may be taken as the key-word in anything like a critical survey of Romney's work.\"\n",
        "#text 3 is from chapter 4 OUR ILLUSTRATIONS\n",
        "text3 = \"From the National Gallery we have selected two: a portrait of Mrs. Mark Currie and the portrait called The Parson's Daughter. Mrs. Mark Currie represents a life-size, nearly full-length figure. The lady is dressed in a simple white muslin dress with short sleeves, and an elaborate fichu of the same material. Round her waist is a silk sash of pale red, and the ribbons which trim her sleeves and fichu are of the same pale tint. Her fair hair, slightly powdered, falls in full clusters around her shapely shoulders. Her face wears a quiet thoughtful expression, with a lurking look of humour about the eyes. The background is slightly suggested landscape and trees. The lady was a Miss Elizabeth Close, who married Mr. Mark Currie, a goldsmith and banker, in January, 1789, and gave her first sitting for the portrait on the 7th of May of the same year.It is not known whom The Parson's Daughter represents, nor why it bears that name.It is a very charming circular portrait of a young lady with dark eyes and auburn hair, which is powdered and bound with a green ribbon. She wears a brown dress and white handkerchief. The modelling on the face is very dexterously painted, and the tender thoughtful expression of the dark eyes quite beautiful. The hair is painted in very broad, powerful fashion, and the draperies over the bust indicated lightly and put on with a wonderful sliding movement which is notable. On the whole Romney seldom did a more pleasing piece of work than the portrait of this quiet and refined dainty girl. The Clavering Children, which we have the special permission of the owner (Rev. J. W. Napier-Clavering) to reproduce, is a very happy example of Romney's ability to depict children in movement and to give the effect of rapid motion.\""
      ]
    },
    {
      "cell_type": "code",
      "source": [
        "stop_words = set(stopwords.words('english'))"
      ],
      "metadata": {
        "id": "zoefhx71Y_Mp"
      },
      "execution_count": 6,
      "outputs": []
    },
    {
      "cell_type": "code",
      "source": [
        "text_tokens = word_tokenize(text1 +\" \"+ text2 + \" \" +text3 )\n",
        "filtered_text = [w for w in text_tokens if not w.lower() in stop_words]\n",
        " \n",
        "filtered_text = \" \".join(filtered_text) "
      ],
      "metadata": {
        "id": "DUrVNkYjYstX"
      },
      "execution_count": 7,
      "outputs": []
    },
    {
      "cell_type": "code",
      "source": [
        "filtered_text"
      ],
      "metadata": {
        "colab": {
          "base_uri": "https://localhost:8080/",
          "height": 145
        },
        "id": "RPt8BfCPY52Q",
        "outputId": "f64bd350-7e36-4912-fec2-6e50ea787b01"
      },
      "execution_count": 8,
      "outputs": [
        {
          "output_type": "execute_result",
          "data": {
            "text/plain": [
              "\"consideration life art George Romney , however brief , impossible leave name Lady Hamilton , constantly painted . well , therefore , short section little book devoted story life fascinating person , fated exercise strong influence upon painter . hardly possible imaginative romancer tell story chequered events , thrilling emotions , sad end . Emma Lyon daughter smith Cheshire , humble man , died 1761 , short married life , left widow infant daughter wholly without support . widow moved Neston , husband died , Hawarden , native place , aid relatives , almost equally poor , managed bring child send dame 's school village . twelve Emma went nursery-maid family Mr. Thomas , doctor Hawarden , whose son afterwards became eminent surgeon . Romney almost exclusively known painter portraits , historical scenes attracting little attention . way remarkable , forced conception over-sentimental design , fashion day . portraits struck much truer note repute stand . almost impossible , taking consideration time lived , avoid comparing great rivals Reynolds Gainsborough , perhaps well , thinking connection two men possible obtain better impression capabilities knowledge faults . , quite certain , far less important man Gainsborough , must certainly reckoned greatest three . lacked colour sense distinguished great artist ; means equal technical merit ; ability produce landscape-work gave great charm pictures Sudbury artist . wonderful poetry streamed brush Gainsborough refined works , delicacy , grace sweetness figures superior qualities Romney possessed , whilst colourist Gainsborough stood head shoulders rivals . come draughtsmanship , however , different footing , Romney superior Reynolds Gainsborough ability draw accuracy truth , also surpassed manner obtained effects . Reynolds laboured Romney achieved effect greatest ease simplicity ; , fact , word simplicity may taken key-word anything like critical survey Romney 's work . National Gallery selected two : portrait Mrs. Mark Currie portrait called Parson 's Daughter . Mrs. Mark Currie represents life-size , nearly full-length figure . lady dressed simple white muslin dress short sleeves , elaborate fichu material . Round waist silk sash pale red , ribbons trim sleeves fichu pale tint . fair hair , slightly powdered , falls full clusters around shapely shoulders . face wears quiet thoughtful expression , lurking look humour eyes . background slightly suggested landscape trees . lady Miss Elizabeth Close , married Mr. Mark Currie , goldsmith banker , January , 1789 , gave first sitting portrait 7th May year.It known Parson 's Daughter represents , bears name.It charming circular portrait young lady dark eyes auburn hair , powdered bound green ribbon . wears brown dress white handkerchief . modelling face dexterously painted , tender thoughtful expression dark eyes quite beautiful . hair painted broad , powerful fashion , draperies bust indicated lightly put wonderful sliding movement notable . whole Romney seldom pleasing piece work portrait quiet refined dainty girl . Clavering Children , special permission owner ( Rev . J. W. Napier-Clavering ) reproduce , happy example Romney 's ability depict children movement give effect rapid motion .\""
            ],
            "application/vnd.google.colaboratory.intrinsic+json": {
              "type": "string"
            }
          },
          "metadata": {},
          "execution_count": 8
        }
      ]
    },
    {
      "cell_type": "code",
      "source": [
        "# Retrieving unique words from the document\n",
        "unique_words_list = [set(filtered_text.split(\" \"))]\n",
        "unique_words = set().union(*unique_words_list)\n",
        "#unique_words"
      ],
      "metadata": {
        "id": "F-QEj6O2ZGmZ"
      },
      "execution_count": 10,
      "outputs": []
    },
    {
      "cell_type": "code",
      "source": [
        "# Defining a dictionary which has the unique words as keys and the document number as values\n",
        "document = defaultdict(list)\n",
        "for word  in unique_words:\n",
        "  if word != \" \" or word != '':\n",
        "    if word in text1.split(\" \"):\n",
        "      document[word].append('1')\n",
        "    else:\n",
        "      pass\n",
        "    if word in text2.split(\" \"):\n",
        "      document[word].append('2')\n",
        "    else:\n",
        "      pass\n",
        "    if word in text3.split(\" \"):\n",
        "      document[word].append('3')\n",
        "    \n",
        "  else:\n",
        "    continue\n"
      ],
      "metadata": {
        "id": "nBCXx4I8ybQM"
      },
      "execution_count": 11,
      "outputs": []
    },
    {
      "cell_type": "code",
      "source": [
        "document"
      ],
      "metadata": {
        "colab": {
          "base_uri": "https://localhost:8080/"
        },
        "id": "f14LH42gaL0W",
        "outputId": "b5b7f5ba-571a-45ef-f4c9-5940c82b7e43"
      },
      "execution_count": 12,
      "outputs": [
        {
          "output_type": "execute_result",
          "data": {
            "text/plain": [
              "defaultdict(list,\n",
              "            {'name.It': ['3'],\n",
              "             'obtain': ['2'],\n",
              "             'life': ['1'],\n",
              "             'known': ['2', '3'],\n",
              "             'accuracy': ['2'],\n",
              "             'anything': ['2'],\n",
              "             'simplicity': ['2'],\n",
              "             'head': ['2'],\n",
              "             'poor': ['1'],\n",
              "             'family': ['1'],\n",
              "             'first': ['3'],\n",
              "             'shapely': ['3'],\n",
              "             'imaginative': ['1'],\n",
              "             'draperies': ['3'],\n",
              "             'married': ['1', '3'],\n",
              "             'whole': ['3'],\n",
              "             'charm': ['2'],\n",
              "             'exercise': ['1'],\n",
              "             'bears': ['3'],\n",
              "             'happy': ['3'],\n",
              "             'Sudbury': ['2'],\n",
              "             'distinguished': ['2'],\n",
              "             'brown': ['3'],\n",
              "             'afterwards': ['1'],\n",
              "             'lurking': ['3'],\n",
              "             'Gainsborough': ['2'],\n",
              "             'perhaps': ['2'],\n",
              "             'note': ['2'],\n",
              "             'ribbons': ['3'],\n",
              "             'wears': ['3'],\n",
              "             'two': ['2'],\n",
              "             'sash': ['3'],\n",
              "             'art': ['1'],\n",
              "             'child': ['1'],\n",
              "             'powdered': ['3'],\n",
              "             'goldsmith': ['3'],\n",
              "             'brush': ['2'],\n",
              "             'W.': ['3'],\n",
              "             'elaborate': ['3'],\n",
              "             'Currie': ['3'],\n",
              "             'nearly': ['3'],\n",
              "             'put': ['3'],\n",
              "             'story': ['1'],\n",
              "             'knowledge': ['2'],\n",
              "             'eyes': ['3'],\n",
              "             'repute': ['2'],\n",
              "             'qualities': ['2'],\n",
              "             'also': ['2'],\n",
              "             'Emma': ['1'],\n",
              "             'white': ['3'],\n",
              "             'lady': ['3'],\n",
              "             'trim': ['3'],\n",
              "             'young': ['3'],\n",
              "             'comparing': ['2'],\n",
              "             'painted': ['1', '3'],\n",
              "             'little': ['1', '2'],\n",
              "             'dark': ['3'],\n",
              "             'suggested': ['3'],\n",
              "             'equally': ['1'],\n",
              "             'Lady': ['1'],\n",
              "             'produce': ['2'],\n",
              "             'bring': ['1'],\n",
              "             'portrait': ['3'],\n",
              "             'send': ['1'],\n",
              "             'much': ['2'],\n",
              "             'gave': ['2', '3'],\n",
              "             'indicated': ['3'],\n",
              "             'aid': ['1'],\n",
              "             'sweetness': ['2'],\n",
              "             'waist': ['3'],\n",
              "             'grace': ['2'],\n",
              "             'seldom': ['3'],\n",
              "             'way': ['2'],\n",
              "             'scenes': ['2'],\n",
              "             'fated': ['1'],\n",
              "             'taken': ['2'],\n",
              "             'short': ['1', '3'],\n",
              "             'colour': ['2'],\n",
              "             'conception': ['2'],\n",
              "             'twelve': ['1'],\n",
              "             'full': ['3'],\n",
              "             'rivals': ['2'],\n",
              "             'native': ['1'],\n",
              "             'hardly': ['1'],\n",
              "             'full-length': ['3'],\n",
              "             'taking': ['2'],\n",
              "             'technical': ['2'],\n",
              "             'fascinating': ['1'],\n",
              "             'school': ['1'],\n",
              "             'critical': ['2'],\n",
              "             'pleasing': ['3'],\n",
              "             'sad': ['1'],\n",
              "             'husband': ['1'],\n",
              "             'means': ['2'],\n",
              "             'portraits': ['2'],\n",
              "             'work': ['3'],\n",
              "             'Miss': ['3'],\n",
              "             'bound': ['3'],\n",
              "             'piece': ['3'],\n",
              "             'constantly': ['1'],\n",
              "             'draughtsmanship': ['2'],\n",
              "             'manner': ['2'],\n",
              "             'survey': ['2'],\n",
              "             'over-sentimental': ['2'],\n",
              "             'modelling': ['3'],\n",
              "             'men': ['2'],\n",
              "             'reckoned': ['2'],\n",
              "             'circular': ['3'],\n",
              "             'lacked': ['2'],\n",
              "             'dexterously': ['3'],\n",
              "             'give': ['3'],\n",
              "             'whose': ['1'],\n",
              "             'silk': ['3'],\n",
              "             'influence': ['1'],\n",
              "             'come': ['2'],\n",
              "             'pale': ['3'],\n",
              "             'movement': ['3'],\n",
              "             'laboured': ['2'],\n",
              "             'example': ['3'],\n",
              "             'powerful': ['3'],\n",
              "             'Clavering': ['3'],\n",
              "             'may': ['2'],\n",
              "             'widow': ['1'],\n",
              "             'humble': ['1'],\n",
              "             'tender': ['3'],\n",
              "             'greatest': ['2'],\n",
              "             'section': ['1'],\n",
              "             'like': ['2'],\n",
              "             'called': ['3'],\n",
              "             'owner': ['3'],\n",
              "             'well': ['2'],\n",
              "             'expression': ['3'],\n",
              "             'Romney': ['2', '3'],\n",
              "             'daughter': ['1'],\n",
              "             'capabilities': ['2'],\n",
              "             'quite': ['2', '3'],\n",
              "             'quiet': ['3'],\n",
              "             'thoughtful': ['3'],\n",
              "             'draw': ['2'],\n",
              "             'lightly': ['3'],\n",
              "             'sliding': ['3'],\n",
              "             'certainly': ['2'],\n",
              "             'wonderful': ['2', '3'],\n",
              "             'whilst': ['2'],\n",
              "             'important': ['2'],\n",
              "             'eminent': ['1'],\n",
              "             'obtained': ['2'],\n",
              "             'tell': ['1'],\n",
              "             'ease': ['2'],\n",
              "             'bust': ['3'],\n",
              "             'far': ['2'],\n",
              "             'painter': ['2'],\n",
              "             'man': ['2'],\n",
              "             'fair': ['3'],\n",
              "             'permission': ['3'],\n",
              "             'dress': ['3'],\n",
              "             'avoid': ['2'],\n",
              "             'landscape-work': ['2'],\n",
              "             'look': ['3'],\n",
              "             'selected': ['3'],\n",
              "             'figures': ['2'],\n",
              "             'different': ['2'],\n",
              "             'muslin': ['3'],\n",
              "             'colourist': ['2'],\n",
              "             'fashion': ['2'],\n",
              "             'depict': ['3'],\n",
              "             'devoted': ['1'],\n",
              "             'exclusively': ['2'],\n",
              "             'May': ['3'],\n",
              "             'effect': ['2', '3'],\n",
              "             'children': ['3'],\n",
              "             'fichu': ['3'],\n",
              "             'shoulders': ['2'],\n",
              "             'better': ['2'],\n",
              "             'key-word': ['2'],\n",
              "             'smith': ['1'],\n",
              "             'struck': ['2'],\n",
              "             'romancer': ['1'],\n",
              "             'ability': ['2', '3'],\n",
              "             'infant': ['1'],\n",
              "             'attracting': ['2'],\n",
              "             'equal': ['2'],\n",
              "             'became': ['1'],\n",
              "             'doctor': ['1'],\n",
              "             'superior': ['2'],\n",
              "             'Reynolds': ['2'],\n",
              "             'son': ['1'],\n",
              "             'sleeves': ['3'],\n",
              "             'time': ['2'],\n",
              "             'possible': ['1', '2'],\n",
              "             'Gallery': ['3'],\n",
              "             'went': ['1'],\n",
              "             'thrilling': ['1'],\n",
              "             'must': ['2'],\n",
              "             'Elizabeth': ['3'],\n",
              "             'streamed': ['2'],\n",
              "             'George': ['1'],\n",
              "             'upon': ['1'],\n",
              "             'slightly': ['3'],\n",
              "             'charming': ['3'],\n",
              "             'forced': ['2'],\n",
              "             'historical': ['2'],\n",
              "             'around': ['3'],\n",
              "             'special': ['3'],\n",
              "             'Mark': ['3'],\n",
              "             'sense': ['2'],\n",
              "             'impossible': ['1'],\n",
              "             'truer': ['2'],\n",
              "             'dressed': ['3'],\n",
              "             'sitting': ['3'],\n",
              "             'Mrs.': ['3'],\n",
              "             'humour': ['3'],\n",
              "             'great': ['2'],\n",
              "             'however': ['1'],\n",
              "             'chequered': ['1'],\n",
              "             'background': ['3'],\n",
              "             'hair': ['3'],\n",
              "             'connection': ['2'],\n",
              "             'without': ['1'],\n",
              "             'moved': ['1'],\n",
              "             'Daughter': ['3'],\n",
              "             'auburn': ['3'],\n",
              "             'green': ['3'],\n",
              "             'pictures': ['2'],\n",
              "             'Round': ['3'],\n",
              "             'name': ['1'],\n",
              "             'less': ['2'],\n",
              "             'landscape': ['3'],\n",
              "             'National': ['3'],\n",
              "             'dainty': ['3'],\n",
              "             'almost': ['1', '2'],\n",
              "             'poetry': ['2'],\n",
              "             'stood': ['2'],\n",
              "             'Lyon': ['1'],\n",
              "             'wholly': ['1'],\n",
              "             'died': ['1'],\n",
              "             'left': ['1'],\n",
              "             'word': ['2'],\n",
              "             'rapid': ['3'],\n",
              "             'refined': ['2', '3'],\n",
              "             'impression': ['2'],\n",
              "             'leave': ['1'],\n",
              "             'surpassed': ['2'],\n",
              "             '7th': ['3'],\n",
              "             'Mr.': ['1', '3'],\n",
              "             'J.': ['3'],\n",
              "             'achieved': ['2'],\n",
              "             'book': ['1'],\n",
              "             'simple': ['3'],\n",
              "             'consideration': ['1', '2'],\n",
              "             'year.It': ['3'],\n",
              "             'clusters': ['3'],\n",
              "             'face': ['3'],\n",
              "             'strong': ['1'],\n",
              "             'nursery-maid': ['1'],\n",
              "             'managed': ['1'],\n",
              "             'represents': ['3'],\n",
              "             'thinking': ['2'],\n",
              "             'falls': ['3']})"
            ]
          },
          "metadata": {},
          "execution_count": 12
        }
      ]
    },
    {
      "cell_type": "code",
      "source": [
        "doc_columnes = list(document)"
      ],
      "metadata": {
        "id": "xPPoup0-aPZv"
      },
      "execution_count": 13,
      "outputs": []
    },
    {
      "cell_type": "code",
      "source": [
        "dataset = pd.DataFrame(list(document.items()), columns = ['words','Posting List'])"
      ],
      "metadata": {
        "id": "4L-kumoJaVWI"
      },
      "execution_count": 15,
      "outputs": []
    },
    {
      "cell_type": "code",
      "source": [
        "dataset"
      ],
      "metadata": {
        "colab": {
          "base_uri": "https://localhost:8080/",
          "height": 424
        },
        "id": "bZh0wBQSaaR9",
        "outputId": "6ef2e915-a158-4d26-e8bd-d8da2196014e"
      },
      "execution_count": 16,
      "outputs": [
        {
          "output_type": "execute_result",
          "data": {
            "text/plain": [
              "            words Posting List\n",
              "0         name.It          [3]\n",
              "1          obtain          [2]\n",
              "2            life          [1]\n",
              "3           known       [2, 3]\n",
              "4        accuracy          [2]\n",
              "..            ...          ...\n",
              "254  nursery-maid          [1]\n",
              "255       managed          [1]\n",
              "256    represents          [3]\n",
              "257      thinking          [2]\n",
              "258         falls          [3]\n",
              "\n",
              "[259 rows x 2 columns]"
            ],
            "text/html": [
              "\n",
              "  <div id=\"df-770a6cb9-da72-4868-87cc-228df627180e\">\n",
              "    <div class=\"colab-df-container\">\n",
              "      <div>\n",
              "<style scoped>\n",
              "    .dataframe tbody tr th:only-of-type {\n",
              "        vertical-align: middle;\n",
              "    }\n",
              "\n",
              "    .dataframe tbody tr th {\n",
              "        vertical-align: top;\n",
              "    }\n",
              "\n",
              "    .dataframe thead th {\n",
              "        text-align: right;\n",
              "    }\n",
              "</style>\n",
              "<table border=\"1\" class=\"dataframe\">\n",
              "  <thead>\n",
              "    <tr style=\"text-align: right;\">\n",
              "      <th></th>\n",
              "      <th>words</th>\n",
              "      <th>Posting List</th>\n",
              "    </tr>\n",
              "  </thead>\n",
              "  <tbody>\n",
              "    <tr>\n",
              "      <th>0</th>\n",
              "      <td>name.It</td>\n",
              "      <td>[3]</td>\n",
              "    </tr>\n",
              "    <tr>\n",
              "      <th>1</th>\n",
              "      <td>obtain</td>\n",
              "      <td>[2]</td>\n",
              "    </tr>\n",
              "    <tr>\n",
              "      <th>2</th>\n",
              "      <td>life</td>\n",
              "      <td>[1]</td>\n",
              "    </tr>\n",
              "    <tr>\n",
              "      <th>3</th>\n",
              "      <td>known</td>\n",
              "      <td>[2, 3]</td>\n",
              "    </tr>\n",
              "    <tr>\n",
              "      <th>4</th>\n",
              "      <td>accuracy</td>\n",
              "      <td>[2]</td>\n",
              "    </tr>\n",
              "    <tr>\n",
              "      <th>...</th>\n",
              "      <td>...</td>\n",
              "      <td>...</td>\n",
              "    </tr>\n",
              "    <tr>\n",
              "      <th>254</th>\n",
              "      <td>nursery-maid</td>\n",
              "      <td>[1]</td>\n",
              "    </tr>\n",
              "    <tr>\n",
              "      <th>255</th>\n",
              "      <td>managed</td>\n",
              "      <td>[1]</td>\n",
              "    </tr>\n",
              "    <tr>\n",
              "      <th>256</th>\n",
              "      <td>represents</td>\n",
              "      <td>[3]</td>\n",
              "    </tr>\n",
              "    <tr>\n",
              "      <th>257</th>\n",
              "      <td>thinking</td>\n",
              "      <td>[2]</td>\n",
              "    </tr>\n",
              "    <tr>\n",
              "      <th>258</th>\n",
              "      <td>falls</td>\n",
              "      <td>[3]</td>\n",
              "    </tr>\n",
              "  </tbody>\n",
              "</table>\n",
              "<p>259 rows × 2 columns</p>\n",
              "</div>\n",
              "      <button class=\"colab-df-convert\" onclick=\"convertToInteractive('df-770a6cb9-da72-4868-87cc-228df627180e')\"\n",
              "              title=\"Convert this dataframe to an interactive table.\"\n",
              "              style=\"display:none;\">\n",
              "        \n",
              "  <svg xmlns=\"http://www.w3.org/2000/svg\" height=\"24px\"viewBox=\"0 0 24 24\"\n",
              "       width=\"24px\">\n",
              "    <path d=\"M0 0h24v24H0V0z\" fill=\"none\"/>\n",
              "    <path d=\"M18.56 5.44l.94 2.06.94-2.06 2.06-.94-2.06-.94-.94-2.06-.94 2.06-2.06.94zm-11 1L8.5 8.5l.94-2.06 2.06-.94-2.06-.94L8.5 2.5l-.94 2.06-2.06.94zm10 10l.94 2.06.94-2.06 2.06-.94-2.06-.94-.94-2.06-.94 2.06-2.06.94z\"/><path d=\"M17.41 7.96l-1.37-1.37c-.4-.4-.92-.59-1.43-.59-.52 0-1.04.2-1.43.59L10.3 9.45l-7.72 7.72c-.78.78-.78 2.05 0 2.83L4 21.41c.39.39.9.59 1.41.59.51 0 1.02-.2 1.41-.59l7.78-7.78 2.81-2.81c.8-.78.8-2.07 0-2.86zM5.41 20L4 18.59l7.72-7.72 1.47 1.35L5.41 20z\"/>\n",
              "  </svg>\n",
              "      </button>\n",
              "      \n",
              "  <style>\n",
              "    .colab-df-container {\n",
              "      display:flex;\n",
              "      flex-wrap:wrap;\n",
              "      gap: 12px;\n",
              "    }\n",
              "\n",
              "    .colab-df-convert {\n",
              "      background-color: #E8F0FE;\n",
              "      border: none;\n",
              "      border-radius: 50%;\n",
              "      cursor: pointer;\n",
              "      display: none;\n",
              "      fill: #1967D2;\n",
              "      height: 32px;\n",
              "      padding: 0 0 0 0;\n",
              "      width: 32px;\n",
              "    }\n",
              "\n",
              "    .colab-df-convert:hover {\n",
              "      background-color: #E2EBFA;\n",
              "      box-shadow: 0px 1px 2px rgba(60, 64, 67, 0.3), 0px 1px 3px 1px rgba(60, 64, 67, 0.15);\n",
              "      fill: #174EA6;\n",
              "    }\n",
              "\n",
              "    [theme=dark] .colab-df-convert {\n",
              "      background-color: #3B4455;\n",
              "      fill: #D2E3FC;\n",
              "    }\n",
              "\n",
              "    [theme=dark] .colab-df-convert:hover {\n",
              "      background-color: #434B5C;\n",
              "      box-shadow: 0px 1px 3px 1px rgba(0, 0, 0, 0.15);\n",
              "      filter: drop-shadow(0px 1px 2px rgba(0, 0, 0, 0.3));\n",
              "      fill: #FFFFFF;\n",
              "    }\n",
              "  </style>\n",
              "\n",
              "      <script>\n",
              "        const buttonEl =\n",
              "          document.querySelector('#df-770a6cb9-da72-4868-87cc-228df627180e button.colab-df-convert');\n",
              "        buttonEl.style.display =\n",
              "          google.colab.kernel.accessAllowed ? 'block' : 'none';\n",
              "\n",
              "        async function convertToInteractive(key) {\n",
              "          const element = document.querySelector('#df-770a6cb9-da72-4868-87cc-228df627180e');\n",
              "          const dataTable =\n",
              "            await google.colab.kernel.invokeFunction('convertToInteractive',\n",
              "                                                     [key], {});\n",
              "          if (!dataTable) return;\n",
              "\n",
              "          const docLinkHtml = 'Like what you see? Visit the ' +\n",
              "            '<a target=\"_blank\" href=https://colab.research.google.com/notebooks/data_table.ipynb>data table notebook</a>'\n",
              "            + ' to learn more about interactive tables.';\n",
              "          element.innerHTML = '';\n",
              "          dataTable['output_type'] = 'display_data';\n",
              "          await google.colab.output.renderOutput(dataTable, element);\n",
              "          const docLink = document.createElement('div');\n",
              "          docLink.innerHTML = docLinkHtml;\n",
              "          element.appendChild(docLink);\n",
              "        }\n",
              "      </script>\n",
              "    </div>\n",
              "  </div>\n",
              "  "
            ]
          },
          "metadata": {},
          "execution_count": 16
        }
      ]
    },
    {
      "cell_type": "code",
      "source": [
        "mapping_dict={'1': 'Lady Hamilton', '2': 'The art of Romney', '3': ' Our Illustrations'}"
      ],
      "metadata": {
        "id": "WjYS06e8ac8J"
      },
      "execution_count": 26,
      "outputs": []
    },
    {
      "cell_type": "code",
      "source": [
        "# Function for applying boolean operators to the inverted index\n",
        "def inverted_index(Query_search):\n",
        "  for word_token in Query_search.split():\n",
        "    if word_token == 'and':\n",
        "      Query_search = Query_search.replace(word_token, '&')\n",
        "    elif word_token == 'or':\n",
        "      Query_search = Query_search.replace(word_token, '|')\n",
        "    elif word_token == 'not':\n",
        "      Query_search = Query_search.replace(word_token, \"{'1','2','3','4','5','6','7'}-\")\n",
        "  for word_token in Query_search.split():\n",
        "    if word_token.isalpha():\n",
        "      Query_search = Query_search.replace(word_token, repr(set(document[word_token])))\n",
        "  return Query_search  "
      ],
      "metadata": {
        "id": "VzKW0eJ9axzv"
      },
      "execution_count": 28,
      "outputs": []
    },
    {
      "cell_type": "markdown",
      "source": [
        "Query_search execution"
      ],
      "metadata": {
        "id": "I0YrO0W5a9Me"
      }
    },
    {
      "cell_type": "code",
      "source": [
        "Query_search1 = 'child and consideration and represents'\n",
        "doc_label = inverted_index(Query_search1)\n",
        "doc_label"
      ],
      "metadata": {
        "colab": {
          "base_uri": "https://localhost:8080/",
          "height": 36
        },
        "id": "sT9k5iewa1WD",
        "outputId": "0d0f94ab-aa7f-4566-c99e-8705f0fd0320"
      },
      "execution_count": 30,
      "outputs": [
        {
          "output_type": "execute_result",
          "data": {
            "text/plain": [
              "\"{'1'} & {'1', '2'} & {'3'}\""
            ],
            "application/vnd.google.colaboratory.intrinsic+json": {
              "type": "string"
            }
          },
          "metadata": {},
          "execution_count": 30
        }
      ]
    },
    {
      "cell_type": "code",
      "source": [],
      "metadata": {
        "id": "QfhCfDwdbaci"
      },
      "execution_count": null,
      "outputs": []
    }
  ]
}